{
 "cells": [
  {
   "cell_type": "markdown",
   "metadata": {},
   "source": [
    "# Programming Homework #1\n",
    "\n",
    "학번 : 2017111299\n",
    "\n",
    "이름 : 이혜원\n",
    "\n",
    "---\n",
    "\n",
    "csv 파일을 통해 50명의 키와 몸무게가 들어있는 파일을 준비하여 pandas를 사용해 해당 파일을 읽고 다음을 수행하세요."
   ]
  },
  {
   "cell_type": "code",
   "execution_count": 1,
   "metadata": {},
   "outputs": [],
   "source": [
    "import pandas as pd\n",
    "\n",
    "data = pd.read_csv(\"datasets/data.csv\") #데이터 불러오기\n",
    "data = data.iloc[:50]          #50개의 데이터만 사용"
   ]
  },
  {
   "cell_type": "code",
   "execution_count": 2,
   "metadata": {
    "scrolled": true
   },
   "outputs": [
    {
     "name": "stdout",
     "output_type": "stream",
     "text": [
      "<class 'pandas.core.frame.DataFrame'>\n",
      "RangeIndex: 50 entries, 0 to 49\n",
      "Data columns (total 10 columns):\n",
      " #   Column     Non-Null Count  Dtype  \n",
      "---  ------     --------------  -----  \n",
      " 0   index      50 non-null     int64  \n",
      " 1   측정 일자      50 non-null     int64  \n",
      " 2   가슴 둘레(cm)  50 non-null     float64\n",
      " 3   소매길이(cm)   50 non-null     float64\n",
      " 4   신장(cm)     50 non-null     float64\n",
      " 5   허리 둘레(cm)  50 non-null     float64\n",
      " 6   샅높이(cm)    50 non-null     float64\n",
      " 7   머리 둘레(cm)  50 non-null     float64\n",
      " 8   발 길이(cm)   50 non-null     float64\n",
      " 9   몸무게(kg)    50 non-null     float64\n",
      "dtypes: float64(8), int64(2)\n",
      "memory usage: 4.0 KB\n"
     ]
    }
   ],
   "source": [
    "data.info()                    #데이터에 대한 간략한 정보 출력"
   ]
  },
  {
   "cell_type": "markdown",
   "metadata": {},
   "source": [
    "### 1. head()메소드를 사용하여 5명까지의 키와 몸무게를 출력하세요."
   ]
  },
  {
   "cell_type": "code",
   "execution_count": 3,
   "metadata": {},
   "outputs": [
    {
     "data": {
      "text/html": [
       "<div>\n",
       "<style scoped>\n",
       "    .dataframe tbody tr th:only-of-type {\n",
       "        vertical-align: middle;\n",
       "    }\n",
       "\n",
       "    .dataframe tbody tr th {\n",
       "        vertical-align: top;\n",
       "    }\n",
       "\n",
       "    .dataframe thead th {\n",
       "        text-align: right;\n",
       "    }\n",
       "</style>\n",
       "<table border=\"1\" class=\"dataframe\">\n",
       "  <thead>\n",
       "    <tr style=\"text-align: right;\">\n",
       "      <th></th>\n",
       "      <th>신장(cm)</th>\n",
       "      <th>몸무게(kg)</th>\n",
       "    </tr>\n",
       "  </thead>\n",
       "  <tbody>\n",
       "    <tr>\n",
       "      <th>0</th>\n",
       "      <td>185.5</td>\n",
       "      <td>73.2</td>\n",
       "    </tr>\n",
       "    <tr>\n",
       "      <th>1</th>\n",
       "      <td>167.2</td>\n",
       "      <td>65.1</td>\n",
       "    </tr>\n",
       "    <tr>\n",
       "      <th>2</th>\n",
       "      <td>179.9</td>\n",
       "      <td>93.2</td>\n",
       "    </tr>\n",
       "    <tr>\n",
       "      <th>3</th>\n",
       "      <td>171.4</td>\n",
       "      <td>71.6</td>\n",
       "    </tr>\n",
       "    <tr>\n",
       "      <th>4</th>\n",
       "      <td>176.9</td>\n",
       "      <td>67.1</td>\n",
       "    </tr>\n",
       "  </tbody>\n",
       "</table>\n",
       "</div>"
      ],
      "text/plain": [
       "   신장(cm)  몸무게(kg)\n",
       "0   185.5     73.2\n",
       "1   167.2     65.1\n",
       "2   179.9     93.2\n",
       "3   171.4     71.6\n",
       "4   176.9     67.1"
      ]
     },
     "execution_count": 3,
     "metadata": {},
     "output_type": "execute_result"
    }
   ],
   "source": [
    "data[['신장(cm)','몸무게(kg)']].head() #5명의 데이터 출력"
   ]
  },
  {
   "cell_type": "markdown",
   "metadata": {},
   "source": [
    "### 2. matplotlib를 사용하여 데이터를 시각화해보세요"
   ]
  },
  {
   "cell_type": "code",
   "execution_count": 4,
   "metadata": {},
   "outputs": [
    {
     "data": {
      "image/png": "[encoded data removed]",
      "text/plain": [
       "<Figure size 432x288 with 1 Axes>"
      ]
     },
     "metadata": {
      "needs_background": "light"
     },
     "output_type": "display_data"
    }
   ],
   "source": [
    "import matplotlib.pyplot as plt\n",
    "\n",
    "X = data['신장(cm)']\n",
    "y = data['몸무게(kg)']\n",
    "\n",
    "plt.plot(X, y, \"b.\")\n",
    "plt.xlabel(\"height\", fontsize=18)\n",
    "plt.ylabel(\"weight\", fontsize=18)\n",
    "plt.show()"
   ]
  },
  {
   "cell_type": "markdown",
   "metadata": {},
   "source": [
    "### 3. 사이킷런을 사용해 선형회귀를 실행하여 키가 160cm인 사람의 몸무게를 예측하여 출력하고 절편과 기울기를 각각 출력하세요."
   ]
  },
  {
   "cell_type": "code",
   "execution_count": 5,
   "metadata": {},
   "outputs": [],
   "source": [
    "from sklearn.linear_model import LinearRegression\n",
    "\n",
    "lin_reg = LinearRegression()          # LinearRegression() 클래스 호출\n",
    "X_reshape = X.values.reshape(-1,1)    # X를 2차원 Array형태로 변환\n",
    "lin_reg.fit(X_reshape, y)             # .fit(x, y) : 데이터 이용해 모델 생성\n",
    "\n",
    "X_new = 160                              # 조건\n",
    "y_predict = lin_reg.predict([[X_new]])   # 예측 결과"
   ]
  },
  {
   "cell_type": "code",
   "execution_count": 6,
   "metadata": {},
   "outputs": [
    {
     "name": "stdout",
     "output_type": "stream",
     "text": [
      "키가 160cm인 사람의 예측 몸무게 : [53.29442649]kg\n"
     ]
    }
   ],
   "source": [
    "text = '키가 {x}cm인 사람의 예측 몸무게 : {y}kg'\n",
    "print(text.format(x=X_new, y=y_predict))"
   ]
  },
  {
   "cell_type": "code",
   "execution_count": 7,
   "metadata": {},
   "outputs": [
    {
     "name": "stdout",
     "output_type": "stream",
     "text": [
      "절편 : -142.35515982007138, 기울기 : [1.22280991]\n"
     ]
    }
   ],
   "source": [
    "text = '절편 : {a}, 기울기 : {b}'\n",
    "print(text.format(a=lin_reg.intercept_, b=lin_reg.coef_))"
   ]
  },
  {
   "cell_type": "markdown",
   "metadata": {},
   "source": [
    "### 4. matplotlib를 사용하여 예측 결과를 시각화해보세요."
   ]
  },
  {
   "cell_type": "code",
   "execution_count": 8,
   "metadata": {},
   "outputs": [
    {
     "data": {
      "image/png": "[encoded data removed]",
      "text/plain": [
       "<Figure size 432x288 with 1 Axes>"
      ]
     },
     "metadata": {
      "needs_background": "light"
     },
     "output_type": "display_data"
    }
   ],
   "source": [
    "Y = lin_reg.predict(X_reshape)\n",
    "plt.plot(X, Y, \"r-\", label='predict')   # 예측 결과\n",
    "plt.plot(X, y, \"b.\", label='data')      # 기존 데이터\n",
    "\n",
    "plt.legend(loc='upper left', bbox_to_anchor=(1.0, 1.0)) #범례를 그래프 밖에 배치\n",
    "plt.xlabel(\"height\", fontsize=18)\n",
    "plt.ylabel(\"weight\", fontsize=18)\n",
    "plt.show()"
   ]
  },
  {
   "cell_type": "markdown",
   "metadata": {},
   "source": [
    "\n",
    "---\n"
   ]
  },
  {
   "cell_type": "markdown",
   "metadata": {},
   "source": [
    "# Version"
   ]
  },
  {
   "cell_type": "code",
   "execution_count": 9,
   "metadata": {},
   "outputs": [
    {
     "name": "stdout",
     "output_type": "stream",
     "text": [
      "Python :  3.7.9 (tags/v3.7.9:13c94747c7, Aug 17 2020, 18:58:18) [MSC v.1900 64 bit (AMD64)]\n",
      "pandas :  1.1.4\n",
      "matplotlib :  3.3.2\n",
      "sklearn :  0.23.2\n"
     ]
    }
   ],
   "source": [
    "import sys\n",
    "import matplotlib\n",
    "import sklearn\n",
    "\n",
    "print(\"Python : \", sys.version)\n",
    "print(\"pandas : \", pd.__version__)\n",
    "print(\"matplotlib : \", matplotlib.__version__)\n",
    "print(\"sklearn : \", sklearn.__version__)"
   ]
  },
  {
   "cell_type": "code",
   "execution_count": null,
   "metadata": {},
   "outputs": [],
   "source": []
  }
 ],
 "metadata": {
  "kernelspec": {
   "display_name": "Python 3",
   "language": "python",
   "name": "python3"
  },
  "language_info": {
   "codemirror_mode": {
    "name": "ipython",
    "version": 3
   },
   "file_extension": ".py",
   "mimetype": "text/x-python",
   "name": "python",
   "nbconvert_exporter": "python",
   "pygments_lexer": "ipython3",
   "version": "3.7.9"
  }
 },
 "nbformat": 4,
 "nbformat_minor": 4
}
