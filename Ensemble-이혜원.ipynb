{
 "cells": [
  {
   "cell_type": "markdown",
   "metadata": {},
   "source": [
    "# Programming Homework #5\n",
    "\n",
    "학번 : 2017111299\n",
    "\n",
    "이름 : 이혜원\n",
    "\n",
    "---\n",
    "\n",
    "Moon Dataset을 사용하여, Logistic Regression, Random Forest tree #50, #100, #200, SVM의 Ensemble Learning을 수행하되 직접투표 방식과 간접투표 방식을 각각 적용하여 테스트 셋의 정확도를 출력하세요."
   ]
  },
  {
   "cell_type": "markdown",
   "metadata": {},
   "source": [
    "### Moon Dataset을 사용"
   ]
  },
  {
   "cell_type": "code",
   "execution_count": 1,
   "metadata": {},
   "outputs": [],
   "source": [
    "from sklearn.model_selection import train_test_split\n",
    "from sklearn.datasets import make_moons\n",
    "\n",
    "\n",
    "X, y = make_moons(n_samples=500, noise=0.30, random_state=42) # 데이터 생성\n",
    "X_train, X_test, y_train, y_test = train_test_split(X, y, random_state=42) # Train, Test 데이터 분류\n"
   ]
  },
  {
   "cell_type": "markdown",
   "metadata": {},
   "source": [
    "###  5개의 분류기 준비 \n",
    "(Logistic Regression, Random Forest tree #50, #100, #200, SVM)"
   ]
  },
  {
   "cell_type": "code",
   "execution_count": 2,
   "metadata": {},
   "outputs": [],
   "source": [
    "from sklearn.linear_model import LogisticRegression\n",
    "from sklearn.ensemble import RandomForestClassifier\n",
    "from sklearn.svm import SVC\n",
    "\n",
    "classifiers = []\n",
    "classifiers.append(('lr', LogisticRegression(solver=\"lbfgs\", random_state=42)))\n",
    "classifiers.append(('rf1', RandomForestClassifier(n_estimators=50, random_state=42)))\n",
    "classifiers.append(('rf2', RandomForestClassifier(n_estimators=100, random_state=42)))\n",
    "classifiers.append(('rf3', RandomForestClassifier(n_estimators=200, random_state=42)))\n",
    "classifiers.append(('svc', SVC(gamma=\"scale\", random_state=42)))"
   ]
  },
  {
   "cell_type": "code",
   "execution_count": 3,
   "metadata": {},
   "outputs": [
    {
     "data": {
      "text/plain": [
       "[('lr', LogisticRegression(random_state=42)),\n",
       " ('rf1', RandomForestClassifier(n_estimators=50, random_state=42)),\n",
       " ('rf2', RandomForestClassifier(random_state=42)),\n",
       " ('rf3', RandomForestClassifier(n_estimators=200, random_state=42)),\n",
       " ('svc', SVC(random_state=42))]"
      ]
     },
     "execution_count": 3,
     "metadata": {},
     "output_type": "execute_result"
    }
   ],
   "source": [
    "classifiers"
   ]
  },
  {
   "cell_type": "markdown",
   "metadata": {},
   "source": [
    "### Ensemble Learning - 직접 투표방식 적용"
   ]
  },
  {
   "cell_type": "code",
   "execution_count": 4,
   "metadata": {
    "scrolled": true
   },
   "outputs": [
    {
     "data": {
      "text/plain": [
       "VotingClassifier(estimators=[('lr', LogisticRegression(random_state=42)),\n",
       "                             ('rf1',\n",
       "                              RandomForestClassifier(n_estimators=50,\n",
       "                                                     random_state=42)),\n",
       "                             ('rf2', RandomForestClassifier(random_state=42)),\n",
       "                             ('rf3',\n",
       "                              RandomForestClassifier(n_estimators=200,\n",
       "                                                     random_state=42)),\n",
       "                             ('svc', SVC(random_state=42))])"
      ]
     },
     "execution_count": 4,
     "metadata": {},
     "output_type": "execute_result"
    }
   ],
   "source": [
    "from sklearn.ensemble import VotingClassifier\n",
    "                                 \n",
    "hard = VotingClassifier( estimators=classifiers, voting='hard')\n",
    "hard.fit(X_train, y_train)"
   ]
  },
  {
   "cell_type": "markdown",
   "metadata": {},
   "source": [
    "### Ensemble Learning - 간접 투표방식 적용"
   ]
  },
  {
   "cell_type": "code",
   "execution_count": 5,
   "metadata": {},
   "outputs": [
    {
     "data": {
      "text/plain": [
       "[('lr', LogisticRegression(random_state=42)),\n",
       " ('rf1', RandomForestClassifier(n_estimators=50, random_state=42)),\n",
       " ('rf2', RandomForestClassifier(random_state=42)),\n",
       " ('rf3', RandomForestClassifier(n_estimators=200, random_state=42)),\n",
       " ('svc', SVC(probability=True, random_state=42))]"
      ]
     },
     "execution_count": 5,
     "metadata": {},
     "output_type": "execute_result"
    }
   ],
   "source": [
    "classifiers[4]=('svc', SVC(gamma=\"scale\", random_state=42, probability=True))\n",
    "classifiers"
   ]
  },
  {
   "cell_type": "markdown",
   "metadata": {},
   "source": [
    "probability=True로 설정하면 훈련이 끝난 후 SVM의 점수에 로지스틱 회귀를 훈련시켜 확률을 계산하게 됩니다.\n",
    "\n",
    "default값은 False이며 직접 투표분류기에서는 각 하위 분류기의 확률은 필요치 않아 default값으로 괜찮지만,<br>\n",
    "간접 투표분류기를 사용하기 위해선 각 하위 분류기의 확률이 필요하기 때문에 True 설정을 합니다."
   ]
  },
  {
   "cell_type": "code",
   "execution_count": 6,
   "metadata": {},
   "outputs": [
    {
     "data": {
      "text/plain": [
       "VotingClassifier(estimators=[('lr', LogisticRegression(random_state=42)),\n",
       "                             ('rf1',\n",
       "                              RandomForestClassifier(n_estimators=50,\n",
       "                                                     random_state=42)),\n",
       "                             ('rf2', RandomForestClassifier(random_state=42)),\n",
       "                             ('rf3',\n",
       "                              RandomForestClassifier(n_estimators=200,\n",
       "                                                     random_state=42)),\n",
       "                             ('svc', SVC(probability=True, random_state=42))],\n",
       "                 voting='soft')"
      ]
     },
     "execution_count": 6,
     "metadata": {},
     "output_type": "execute_result"
    }
   ],
   "source": [
    "soft = VotingClassifier( estimators=classifiers, voting='soft')\n",
    "soft.fit(X_train, y_train)"
   ]
  },
  {
   "cell_type": "markdown",
   "metadata": {},
   "source": [
    "### 두가지 방식을 적용한 데이터셋의 정확도를 각각 출력"
   ]
  },
  {
   "cell_type": "code",
   "execution_count": 7,
   "metadata": {},
   "outputs": [
    {
     "name": "stdout",
     "output_type": "stream",
     "text": [
      "직접 투표방식 accuracy >> 0.896\n",
      "간접 투표방식 accuracy >> 0.92\n"
     ]
    }
   ],
   "source": [
    "from sklearn.metrics import accuracy_score\n",
    "\n",
    "accuracy_hard = accuracy_score(y_test, hard.predict(X_test))\n",
    "accuracy_soft = accuracy_score(y_test, soft.predict(X_test))\n",
    "\n",
    "print('직접 투표방식 accuracy >>', accuracy_hard)\n",
    "print('간접 투표방식 accuracy >>', accuracy_soft)"
   ]
  },
  {
   "cell_type": "code",
   "execution_count": 8,
   "metadata": {},
   "outputs": [
    {
     "name": "stdout",
     "output_type": "stream",
     "text": [
      "간접 투표방식이 직접투표방식보다 0.02400000000000002 향상된 성능을 볼 수 있습니다.\n"
     ]
    }
   ],
   "source": [
    "print('간접 투표방식이 직접투표방식보다', (accuracy_soft-accuracy_hard), '향상된 성능을 볼 수 있습니다.')"
   ]
  },
  {
   "cell_type": "markdown",
   "metadata": {},
   "source": [
    "---"
   ]
  },
  {
   "cell_type": "markdown",
   "metadata": {},
   "source": [
    "# Version"
   ]
  },
  {
   "cell_type": "code",
   "execution_count": 9,
   "metadata": {},
   "outputs": [
    {
     "name": "stdout",
     "output_type": "stream",
     "text": [
      "Python  :  3.7.9 (tags/v3.7.9:13c94747c7, Aug 17 2020, 18:58:18) [MSC v.1900 64 bit (AMD64)]\n",
      "sklearn :  0.23.2\n"
     ]
    }
   ],
   "source": [
    "import sys\n",
    "import sklearn\n",
    "\n",
    "print(\"Python  : \", sys.version)\n",
    "print(\"sklearn : \", sklearn.__version__)"
   ]
  }
 ],
 "metadata": {
  "kernelspec": {
   "display_name": "Python 3",
   "language": "python",
   "name": "python3"
  },
  "language_info": {
   "codemirror_mode": {
    "name": "ipython",
    "version": 3
   },
   "file_extension": ".py",
   "mimetype": "text/x-python",
   "name": "python",
   "nbconvert_exporter": "python",
   "pygments_lexer": "ipython3",
   "version": "3.7.9"
  }
 },
 "nbformat": 4,
 "nbformat_minor": 4
}
